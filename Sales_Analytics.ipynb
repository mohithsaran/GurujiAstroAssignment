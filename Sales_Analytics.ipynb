{
 "cells": [
  {
   "cell_type": "markdown",
   "metadata": {},
   "source": [
    "# **Sales Analytics**"
   ]
  },
  {
   "cell_type": "code",
   "execution_count": 1,
   "metadata": {},
   "outputs": [],
   "source": [
    "#importing libraries\n",
    "import numpy as np \n",
    "import pandas as pd\n",
    "import matplotlib.pyplot as plt\n",
    "import seaborn as sns"
   ]
  },
  {
   "cell_type": "code",
   "execution_count": 2,
   "metadata": {},
   "outputs": [],
   "source": [
    "#importing the dataset\n",
    "df1=pd.read_csv(\"Sales_Data.csv\")\n",
    "df2=pd.read_csv(\"Glance_Views.csv\")"
   ]
  },
  {
   "cell_type": "markdown",
   "metadata": {},
   "source": [
    "### **Columns in Sales Data**\n",
    "\n",
    "- SKU_NAME\n",
    "- FEED_DATE\n",
    "- CATEGORY\t\n",
    "- SUB_CATEGORY\t\n",
    "- ORDERED_REVENUE\t\n",
    "- ORDERED_UNITS\t\n",
    "- REP_OOS\n",
    "\n",
    "### **Columns in Glance Views**\n",
    "- SKU_NAME\t\n",
    "- FEED_DATE\t\n",
    "- VIEWS\t\n",
    "- UNITS"
   ]
  },
  {
   "cell_type": "code",
   "execution_count": 3,
   "metadata": {},
   "outputs": [
    {
     "data": {
      "text/html": [
       "<div>\n",
       "<style scoped>\n",
       "    .dataframe tbody tr th:only-of-type {\n",
       "        vertical-align: middle;\n",
       "    }\n",
       "\n",
       "    .dataframe tbody tr th {\n",
       "        vertical-align: top;\n",
       "    }\n",
       "\n",
       "    .dataframe thead th {\n",
       "        text-align: right;\n",
       "    }\n",
       "</style>\n",
       "<table border=\"1\" class=\"dataframe\">\n",
       "  <thead>\n",
       "    <tr style=\"text-align: right;\">\n",
       "      <th></th>\n",
       "      <th>SKU_NAME</th>\n",
       "      <th>FEED_DATE</th>\n",
       "      <th>CATEGORY</th>\n",
       "      <th>SUB_CATEGORY</th>\n",
       "      <th>ORDERED_REVENUE</th>\n",
       "      <th>ORDERED_UNITS</th>\n",
       "      <th>REP_OOS</th>\n",
       "    </tr>\n",
       "  </thead>\n",
       "  <tbody>\n",
       "    <tr>\n",
       "      <th>0</th>\n",
       "      <td>B12020KBUI</td>\n",
       "      <td>5/18/2019</td>\n",
       "      <td>1000 Inputs</td>\n",
       "      <td>1002 Mice</td>\n",
       "      <td>0.00</td>\n",
       "      <td>0</td>\n",
       "      <td>0.0</td>\n",
       "    </tr>\n",
       "    <tr>\n",
       "      <th>1</th>\n",
       "      <td>B12020KBUI</td>\n",
       "      <td>5/19/2019</td>\n",
       "      <td>1000 Inputs</td>\n",
       "      <td>1002 Mice</td>\n",
       "      <td>0.00</td>\n",
       "      <td>0</td>\n",
       "      <td>0.0</td>\n",
       "    </tr>\n",
       "    <tr>\n",
       "      <th>2</th>\n",
       "      <td>B12020KBUI</td>\n",
       "      <td>5/22/2019</td>\n",
       "      <td>1000 Inputs</td>\n",
       "      <td>1002 Mice</td>\n",
       "      <td>0.00</td>\n",
       "      <td>0</td>\n",
       "      <td>0.0</td>\n",
       "    </tr>\n",
       "    <tr>\n",
       "      <th>3</th>\n",
       "      <td>B12020KBUI</td>\n",
       "      <td>5/23/2019</td>\n",
       "      <td>1000 Inputs</td>\n",
       "      <td>1002 Mice</td>\n",
       "      <td>0.00</td>\n",
       "      <td>0</td>\n",
       "      <td>0.0</td>\n",
       "    </tr>\n",
       "    <tr>\n",
       "      <th>4</th>\n",
       "      <td>B12020KBUI</td>\n",
       "      <td>5/27/2019</td>\n",
       "      <td>1000 Inputs</td>\n",
       "      <td>1002 Mice</td>\n",
       "      <td>0.00</td>\n",
       "      <td>0</td>\n",
       "      <td>0.0</td>\n",
       "    </tr>\n",
       "    <tr>\n",
       "      <th>...</th>\n",
       "      <td>...</td>\n",
       "      <td>...</td>\n",
       "      <td>...</td>\n",
       "      <td>...</td>\n",
       "      <td>...</td>\n",
       "      <td>...</td>\n",
       "      <td>...</td>\n",
       "    </tr>\n",
       "    <tr>\n",
       "      <th>41110</th>\n",
       "      <td>D29S5IMRDI</td>\n",
       "      <td>8/27/2019</td>\n",
       "      <td>1000 Inputs</td>\n",
       "      <td>1007 Other Input Devices</td>\n",
       "      <td>129.99</td>\n",
       "      <td>1</td>\n",
       "      <td>0.0</td>\n",
       "    </tr>\n",
       "    <tr>\n",
       "      <th>41111</th>\n",
       "      <td>D29S5IMRDI</td>\n",
       "      <td>8/28/2019</td>\n",
       "      <td>1000 Inputs</td>\n",
       "      <td>1007 Other Input Devices</td>\n",
       "      <td>259.98</td>\n",
       "      <td>2</td>\n",
       "      <td>0.0</td>\n",
       "    </tr>\n",
       "    <tr>\n",
       "      <th>41112</th>\n",
       "      <td>D29S5IMRDI</td>\n",
       "      <td>8/29/2019</td>\n",
       "      <td>1000 Inputs</td>\n",
       "      <td>1007 Other Input Devices</td>\n",
       "      <td>259.98</td>\n",
       "      <td>2</td>\n",
       "      <td>0.0</td>\n",
       "    </tr>\n",
       "    <tr>\n",
       "      <th>41113</th>\n",
       "      <td>D29S5IMRDI</td>\n",
       "      <td>8/30/2019</td>\n",
       "      <td>1000 Inputs</td>\n",
       "      <td>1007 Other Input Devices</td>\n",
       "      <td>259.98</td>\n",
       "      <td>2</td>\n",
       "      <td>0.0</td>\n",
       "    </tr>\n",
       "    <tr>\n",
       "      <th>41114</th>\n",
       "      <td>D29S5IMRDI</td>\n",
       "      <td>8/31/2019</td>\n",
       "      <td>1000 Inputs</td>\n",
       "      <td>1007 Other Input Devices</td>\n",
       "      <td>0.00</td>\n",
       "      <td>0</td>\n",
       "      <td>0.0</td>\n",
       "    </tr>\n",
       "  </tbody>\n",
       "</table>\n",
       "<p>41115 rows × 7 columns</p>\n",
       "</div>"
      ],
      "text/plain": [
       "         SKU_NAME  FEED_DATE     CATEGORY              SUB_CATEGORY  \\\n",
       "0      B12020KBUI  5/18/2019  1000 Inputs                 1002 Mice   \n",
       "1      B12020KBUI  5/19/2019  1000 Inputs                 1002 Mice   \n",
       "2      B12020KBUI  5/22/2019  1000 Inputs                 1002 Mice   \n",
       "3      B12020KBUI  5/23/2019  1000 Inputs                 1002 Mice   \n",
       "4      B12020KBUI  5/27/2019  1000 Inputs                 1002 Mice   \n",
       "...           ...        ...          ...                       ...   \n",
       "41110  D29S5IMRDI  8/27/2019  1000 Inputs  1007 Other Input Devices   \n",
       "41111  D29S5IMRDI  8/28/2019  1000 Inputs  1007 Other Input Devices   \n",
       "41112  D29S5IMRDI  8/29/2019  1000 Inputs  1007 Other Input Devices   \n",
       "41113  D29S5IMRDI  8/30/2019  1000 Inputs  1007 Other Input Devices   \n",
       "41114  D29S5IMRDI  8/31/2019  1000 Inputs  1007 Other Input Devices   \n",
       "\n",
       "       ORDERED_REVENUE  ORDERED_UNITS  REP_OOS  \n",
       "0                 0.00              0      0.0  \n",
       "1                 0.00              0      0.0  \n",
       "2                 0.00              0      0.0  \n",
       "3                 0.00              0      0.0  \n",
       "4                 0.00              0      0.0  \n",
       "...                ...            ...      ...  \n",
       "41110           129.99              1      0.0  \n",
       "41111           259.98              2      0.0  \n",
       "41112           259.98              2      0.0  \n",
       "41113           259.98              2      0.0  \n",
       "41114             0.00              0      0.0  \n",
       "\n",
       "[41115 rows x 7 columns]"
      ]
     },
     "execution_count": 3,
     "metadata": {},
     "output_type": "execute_result"
    }
   ],
   "source": [
    "df1"
   ]
  },
  {
   "cell_type": "code",
   "execution_count": 4,
   "metadata": {},
   "outputs": [
    {
     "data": {
      "text/html": [
       "<div>\n",
       "<style scoped>\n",
       "    .dataframe tbody tr th:only-of-type {\n",
       "        vertical-align: middle;\n",
       "    }\n",
       "\n",
       "    .dataframe tbody tr th {\n",
       "        vertical-align: top;\n",
       "    }\n",
       "\n",
       "    .dataframe thead th {\n",
       "        text-align: right;\n",
       "    }\n",
       "</style>\n",
       "<table border=\"1\" class=\"dataframe\">\n",
       "  <thead>\n",
       "    <tr style=\"text-align: right;\">\n",
       "      <th></th>\n",
       "      <th>SKU_NAME</th>\n",
       "      <th>FEED_DATE</th>\n",
       "      <th>VIEWS</th>\n",
       "      <th>UNITS</th>\n",
       "    </tr>\n",
       "  </thead>\n",
       "  <tbody>\n",
       "    <tr>\n",
       "      <th>0</th>\n",
       "      <td>B1212:PZ:V</td>\n",
       "      <td>5/1/2019</td>\n",
       "      <td>455</td>\n",
       "      <td>16</td>\n",
       "    </tr>\n",
       "    <tr>\n",
       "      <th>1</th>\n",
       "      <td>B1212:PZ:V</td>\n",
       "      <td>5/2/2019</td>\n",
       "      <td>478</td>\n",
       "      <td>12</td>\n",
       "    </tr>\n",
       "    <tr>\n",
       "      <th>2</th>\n",
       "      <td>B1212:PZ:V</td>\n",
       "      <td>5/3/2019</td>\n",
       "      <td>681</td>\n",
       "      <td>42</td>\n",
       "    </tr>\n",
       "    <tr>\n",
       "      <th>3</th>\n",
       "      <td>B1212:PZ:V</td>\n",
       "      <td>5/4/2019</td>\n",
       "      <td>662</td>\n",
       "      <td>70</td>\n",
       "    </tr>\n",
       "    <tr>\n",
       "      <th>4</th>\n",
       "      <td>B1212:PZ:V</td>\n",
       "      <td>5/5/2019</td>\n",
       "      <td>568</td>\n",
       "      <td>33</td>\n",
       "    </tr>\n",
       "    <tr>\n",
       "      <th>...</th>\n",
       "      <td>...</td>\n",
       "      <td>...</td>\n",
       "      <td>...</td>\n",
       "      <td>...</td>\n",
       "    </tr>\n",
       "    <tr>\n",
       "      <th>40740</th>\n",
       "      <td>C08N8KVJDZ</td>\n",
       "      <td>8/27/2019</td>\n",
       "      <td>225</td>\n",
       "      <td>-1</td>\n",
       "    </tr>\n",
       "    <tr>\n",
       "      <th>40741</th>\n",
       "      <td>C08N8KVJDZ</td>\n",
       "      <td>8/28/2019</td>\n",
       "      <td>219</td>\n",
       "      <td>0</td>\n",
       "    </tr>\n",
       "    <tr>\n",
       "      <th>40742</th>\n",
       "      <td>C08N8KVJDZ</td>\n",
       "      <td>8/29/2019</td>\n",
       "      <td>264</td>\n",
       "      <td>0</td>\n",
       "    </tr>\n",
       "    <tr>\n",
       "      <th>40743</th>\n",
       "      <td>C08N8KVJDZ</td>\n",
       "      <td>8/30/2019</td>\n",
       "      <td>260</td>\n",
       "      <td>8</td>\n",
       "    </tr>\n",
       "    <tr>\n",
       "      <th>40744</th>\n",
       "      <td>C08N8KVJDZ</td>\n",
       "      <td>8/31/2019</td>\n",
       "      <td>254</td>\n",
       "      <td>3</td>\n",
       "    </tr>\n",
       "  </tbody>\n",
       "</table>\n",
       "<p>40745 rows × 4 columns</p>\n",
       "</div>"
      ],
      "text/plain": [
       "         SKU_NAME  FEED_DATE  VIEWS  UNITS\n",
       "0      B1212:PZ:V   5/1/2019    455     16\n",
       "1      B1212:PZ:V   5/2/2019    478     12\n",
       "2      B1212:PZ:V   5/3/2019    681     42\n",
       "3      B1212:PZ:V   5/4/2019    662     70\n",
       "4      B1212:PZ:V   5/5/2019    568     33\n",
       "...           ...        ...    ...    ...\n",
       "40740  C08N8KVJDZ  8/27/2019    225     -1\n",
       "40741  C08N8KVJDZ  8/28/2019    219      0\n",
       "40742  C08N8KVJDZ  8/29/2019    264      0\n",
       "40743  C08N8KVJDZ  8/30/2019    260      8\n",
       "40744  C08N8KVJDZ  8/31/2019    254      3\n",
       "\n",
       "[40745 rows x 4 columns]"
      ]
     },
     "execution_count": 4,
     "metadata": {},
     "output_type": "execute_result"
    }
   ],
   "source": [
    "df2"
   ]
  },
  {
   "cell_type": "markdown",
   "metadata": {},
   "source": [
    "#### **Descriptive Statistics**"
   ]
  },
  {
   "cell_type": "code",
   "execution_count": 5,
   "metadata": {},
   "outputs": [
    {
     "data": {
      "text/plain": [
       "(41115, 7)"
      ]
     },
     "execution_count": 5,
     "metadata": {},
     "output_type": "execute_result"
    }
   ],
   "source": [
    "#shape of the data\n",
    "df1.shape"
   ]
  },
  {
   "cell_type": "code",
   "execution_count": 6,
   "metadata": {},
   "outputs": [
    {
     "data": {
      "text/plain": [
       "(40745, 4)"
      ]
     },
     "execution_count": 6,
     "metadata": {},
     "output_type": "execute_result"
    }
   ],
   "source": [
    "df2.shape"
   ]
  },
  {
   "cell_type": "code",
   "execution_count": 7,
   "metadata": {},
   "outputs": [
    {
     "name": "stdout",
     "output_type": "stream",
     "text": [
      "<class 'pandas.core.frame.DataFrame'>\n",
      "RangeIndex: 41115 entries, 0 to 41114\n",
      "Data columns (total 7 columns):\n",
      " #   Column           Non-Null Count  Dtype  \n",
      "---  ------           --------------  -----  \n",
      " 0   SKU_NAME         41115 non-null  object \n",
      " 1   FEED_DATE        41115 non-null  object \n",
      " 2   CATEGORY         41115 non-null  object \n",
      " 3   SUB_CATEGORY     41115 non-null  object \n",
      " 4   ORDERED_REVENUE  41115 non-null  float64\n",
      " 5   ORDERED_UNITS    41115 non-null  int64  \n",
      " 6   REP_OOS          40426 non-null  float64\n",
      "dtypes: float64(2), int64(1), object(4)\n",
      "memory usage: 2.2+ MB\n"
     ]
    }
   ],
   "source": [
    "df1.info()"
   ]
  },
  {
   "cell_type": "markdown",
   "metadata": {},
   "source": [
    "There are null values in REP_OOS column"
   ]
  },
  {
   "cell_type": "code",
   "execution_count": 8,
   "metadata": {},
   "outputs": [
    {
     "name": "stdout",
     "output_type": "stream",
     "text": [
      "<class 'pandas.core.frame.DataFrame'>\n",
      "RangeIndex: 40745 entries, 0 to 40744\n",
      "Data columns (total 4 columns):\n",
      " #   Column     Non-Null Count  Dtype \n",
      "---  ------     --------------  ----- \n",
      " 0   SKU_NAME   40745 non-null  object\n",
      " 1   FEED_DATE  40745 non-null  object\n",
      " 2   VIEWS      40745 non-null  int64 \n",
      " 3   UNITS      40745 non-null  int64 \n",
      "dtypes: int64(2), object(2)\n",
      "memory usage: 1.2+ MB\n"
     ]
    }
   ],
   "source": [
    "df2.info()"
   ]
  },
  {
   "cell_type": "code",
   "execution_count": 9,
   "metadata": {},
   "outputs": [
    {
     "name": "stdout",
     "output_type": "stream",
     "text": [
      "Data type of the column SKU_NAME is object\n",
      "Number of unique values in the column SKU_NAME is 465\n",
      "Null values in the column SKU_NAME is 0\n",
      "==========================================================================================\n",
      "Data type of the column FEED_DATE is object\n",
      "Number of unique values in the column FEED_DATE is 123\n",
      "Null values in the column FEED_DATE is 0\n",
      "==========================================================================================\n",
      "Data type of the column CATEGORY is object\n",
      "Number of unique values in the column CATEGORY is 10\n",
      "Null values in the column CATEGORY is 0\n",
      "==========================================================================================\n",
      "Data type of the column SUB_CATEGORY is object\n",
      "Number of unique values in the column SUB_CATEGORY is 24\n",
      "Null values in the column SUB_CATEGORY is 0\n",
      "==========================================================================================\n",
      "Data type of the column ORDERED_REVENUE is float64\n",
      "Number of unique values in the column ORDERED_REVENUE is 15506\n",
      "Null values in the column ORDERED_REVENUE is 0\n",
      "==========================================================================================\n",
      "Data type of the column ORDERED_UNITS is int64\n",
      "Number of unique values in the column ORDERED_UNITS is 1011\n",
      "Null values in the column ORDERED_UNITS is 0\n",
      "==========================================================================================\n",
      "Data type of the column REP_OOS is float64\n",
      "Number of unique values in the column REP_OOS is 3388\n",
      "Null values in the column REP_OOS is 689\n",
      "==========================================================================================\n"
     ]
    }
   ],
   "source": [
    "for i in df1.columns:\n",
    "    print('Data type of the column {} is {}'.format(i,df1[i].dtype))\n",
    "    print('Number of unique values in the column {} is {}'.format(i,df1[i].nunique()))\n",
    "    print('Null values in the column {} is {}'.format(i,df1[i].isnull().sum()))\n",
    "    print('='*90)"
   ]
  },
  {
   "cell_type": "code",
   "execution_count": 12,
   "metadata": {},
   "outputs": [
    {
     "name": "stdout",
     "output_type": "stream",
     "text": [
      "Data type of the column SKU_NAME is object\n",
      "Number of unique values in the column SKU_NAME is 452\n",
      "Null values in the column SKU_NAME is 0\n",
      "==========================================================================================\n",
      "Data type of the column FEED_DATE is object\n",
      "Number of unique values in the column FEED_DATE is 123\n",
      "Null values in the column FEED_DATE is 0\n",
      "==========================================================================================\n",
      "Data type of the column VIEWS is int64\n",
      "Number of unique values in the column VIEWS is 4370\n",
      "Null values in the column VIEWS is 0\n",
      "==========================================================================================\n",
      "Data type of the column UNITS is int64\n",
      "Number of unique values in the column UNITS is 1011\n",
      "Null values in the column UNITS is 0\n",
      "==========================================================================================\n"
     ]
    }
   ],
   "source": [
    "for i in df2.columns:\n",
    "    print('Data type of the column {} is {}'.format(i,df2[i].dtype))\n",
    "    print('Number of unique values in the column {} is {}'.format(i,df2[i].nunique()))\n",
    "    print('Null values in the column {} is {}'.format(i,df2[i].isnull().sum()))\n",
    "    print('='*90)"
   ]
  },
  {
   "cell_type": "code",
   "execution_count": null,
   "metadata": {},
   "outputs": [],
   "source": []
  }
 ],
 "metadata": {
  "kernelspec": {
   "display_name": "Python 3",
   "language": "python",
   "name": "python3"
  },
  "language_info": {
   "codemirror_mode": {
    "name": "ipython",
    "version": 3
   },
   "file_extension": ".py",
   "mimetype": "text/x-python",
   "name": "python",
   "nbconvert_exporter": "python",
   "pygments_lexer": "ipython3",
   "version": "3.12.3"
  }
 },
 "nbformat": 4,
 "nbformat_minor": 2
}
